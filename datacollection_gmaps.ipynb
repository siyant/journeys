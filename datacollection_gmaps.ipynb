{
 "cells": [
  {
   "cell_type": "code",
   "execution_count": 1,
   "metadata": {},
   "outputs": [
    {
     "name": "stdout",
     "output_type": "stream",
     "text": [
      "['AM,ANG MO KIO', 'BD,BEDOK', 'BS,BISHAN', 'BL,BOON LAY', 'BK,BUKIT BATOK', 'BM,BUKIT MERAH', 'BP,BUKIT PANJANG', 'BT,BUKIT TIMAH', 'CC,CENTRAL WATER CATCHMENT', 'CH,CHANGI', 'CB,CHANGI BAY', 'CK,CHOA CHU KANG', 'CL,CLEMENTI', 'DT,DOWNTOWN CORE', 'GL,GEYLANG', 'HG,HOUGANG', 'JE,JURONG EAST', 'JW,JURONG WEST', 'KL,KALLANG', 'LK,LIM CHU KANG', 'MD,MANDAI', 'ME,MARINA EAST', 'MS,MARINA SOUTH', 'MP,MARINE PARADE', 'MU,MUSEUM', 'NT,NEWTON', 'NE,NORTH-EASTERN ISLANDS', 'NV,NOVENA', 'OR,ORCHARD', 'OT,OUTRAM', 'PR,PASIR RIS', 'PL,PAYA LEBAR', 'PN,PIONEER', 'PG,PUNGGOL', 'QT,QUEENSTOWN', 'RV,RIVER VALLEY', 'RC,ROCHOR', 'SL,SELETAR', 'SB,SEMBAWANG', 'SE,SENGKANG', 'SG,SERANGOON', 'SM,SIMPANG', 'SR,SINGAPORE RIVER', 'SI,SOUTHERN ISLANDS', 'SV,STRAITS VIEW', 'SK,SUNGEI KADUT', 'TM,TAMPINES', 'TN,TANGLIN', 'TH,TENGAH', 'TP,TOA PAYOH', 'TS,TUAS', 'WI,WESTERN ISLANDS', 'WC,WESTERN WATER CATCHMENT', 'WD,WOODLANDS', 'YS,YISHUN']\n"
     ]
    }
   ],
   "source": [
    "import json\n",
    "import pandas as pd\n",
    "import urllib.request\n",
    "import urllib.parse\n",
    "import pprint as pp\n",
    "\n",
    "f = open(\"C:/Users/fan_t/Desktop/dataspark/planningarea.csv\",'r')\n",
    "planningarearaw = f.read()\n",
    "f.close()\n",
    "\n",
    "#print(area)\n",
    "\n",
    "processed1 = planningarearaw.split(\"\\n\")\n",
    "processed1.pop(0)\n",
    "processed1.pop(-1)\n",
    "processed1.pop(-1)\n",
    "planningarea = []\n",
    "for i in processed1:\n",
    "    x = i.split(\",\")\n",
    "    planningarea.append(i)\n",
    "print(planningarea)\n"
   ]
  },
  {
   "cell_type": "code",
   "execution_count": 18,
   "metadata": {},
   "outputs": [],
   "source": [
    "#Driving\n",
    "import time as tt\n",
    "def tc(s):\n",
    "    token = s.split(\" \")\n",
    "    #return token\n",
    "    if len(token) == 4:\n",
    "        hr = int(token[0])\n",
    "        minutes = int(token[2])\n",
    "        totalmin = hr*60+minutes\n",
    "        return totalmin\n",
    "    else:\n",
    "        return int(token[0])\n",
    "key = ''\n",
    "drivingpartialurl = 'https://maps.googleapis.com/maps/api/distancematrix/json?region=sg&mode=driving&key='+key+'&units=metric&'\n",
    "publicpartialurl = 'https://maps.googleapis.com/maps/api/distancematrix/json?region=sg&mode=transit&key='+key+'&units=metric&'\n",
    "parameter = {}\n",
    "i = 1\n",
    "testplanningarea = planningarea\n",
    "allduration = ['origin,destination,road,public']\n",
    "for j in range(55,60,5):\n",
    "    for origin in testplanningarea[j:j+5]:\n",
    "        for destination in testplanningarea:\n",
    "            if origin != destination:\n",
    "                parameter['origins'] = origin.split(\",\")[1]+',Singapore'\n",
    "                originname = origin.split(\",\")[1]\n",
    "                origincode = origin.split(\",\")[0]\n",
    "                parameter['destinations'] = destination.split(\",\")[1]+',Singapore'\n",
    "                destinationcode = destination.split(\",\")[0]\n",
    "                destinationname = destination.split(\",\")[1]\n",
    "                #print(originname,origincode,destinationname,destinationcode,parameter)\n",
    "                url_values = urllib.parse.urlencode(parameter)\n",
    "                drivingtesturl = drivingpartialurl + url_values\n",
    "                drivingresponse = urllib.request.urlopen(drivingtesturl)\n",
    "                drivinghtml = json.loads(drivingresponse.read())\n",
    "                publictesturl =  publicpartialurl + url_values\n",
    "                publicresponse = urllib.request.urlopen( publictesturl)\n",
    "                publichtml = json.loads( publicresponse.read())\n",
    "                print(drivinghtml)\n",
    "                print(publichtml)\n",
    "                try:\n",
    "                    drivingtime = drivinghtml[\"rows\"][0][\"elements\"][0][\"duration\"][\"text\"]    \n",
    "                except KeyError as e:\n",
    "                    drivingtime = \"1000 mins\"\n",
    "                try:\n",
    "                    publictime = publichtml[\"rows\"][0][\"elements\"][0][\"duration\"][\"text\"]\n",
    "                except KeyError as e:\n",
    "                    drivingtime = \"1000 mins\"\n",
    "                #odduration = [parameter['origins'],parameter['destinations']]\n",
    "                odduration = [originname,origincode,destinationname,destinationcode,str(tc(drivingtime)),str(tc(publictime))]\n",
    "                print(i,odduration)\n",
    "                allduration.append(\",\".join(odduration))\n",
    "                i+=1 \n",
    "    f= open('C:\\\\Users\\\\fan_t\\\\Desktop\\\\dataspark\\\\'+str(j)+'duration.csv','w')\n",
    "    f.write('\\n'.join(allduration))\n",
    "    f.close()\n",
    "    tt.sleep(10)"
   ]
  },
  {
   "cell_type": "code",
   "execution_count": null,
   "metadata": {},
   "outputs": [],
   "source": []
  }
 ],
 "metadata": {
  "kernelspec": {
   "display_name": "Python 3",
   "language": "python",
   "name": "python3"
  },
  "language_info": {
   "codemirror_mode": {
    "name": "ipython",
    "version": 3
   },
   "file_extension": ".py",
   "mimetype": "text/x-python",
   "name": "python",
   "nbconvert_exporter": "python",
   "pygments_lexer": "ipython3",
   "version": "3.6.4"
  }
 },
 "nbformat": 4,
 "nbformat_minor": 2
}
